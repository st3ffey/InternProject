{
 "cells": [
  {
   "cell_type": "markdown",
   "id": "437dc1eb",
   "metadata": {},
   "source": [
    "# Intern Project: Creating Insight From Textual Response Data\n",
    "### Max Steffey, Spring 2023"
   ]
  },
  {
   "cell_type": "markdown",
   "id": "747d6ff5",
   "metadata": {},
   "source": [
    "About the current __test__ dataset: Contains a CSV file of user reviews for a new Harry Potter video game. The actual text version of the review (i.e. what the user has to say) is in one column of this file. To perform essential functions, isolate that column, and proceed.\n",
    "\n",
    "With Egg data, a similar process will occur -- many of these functions will not change."
   ]
  },
  {
   "cell_type": "code",
   "execution_count": null,
   "id": "39779445",
   "metadata": {},
   "outputs": [],
   "source": [
    "## importing libraries\n",
    "import pandas as pd\n",
    "import numpy as np\n",
    "import os\n",
    "from nltk.classify.scikitlearn import SklearnClassifier\n",
    "from nltk.classify import ClassifierI\n",
    "from nltk.tokenize import word_tokenize\n",
    "import matplotlib.pyplot as plt\n",
    "import nltk\n",
    "\n",
    "## import text files that contain common positive and negative words\n",
    "tmp_pos = open('/Users/maxsteffey/Downloads/positive-words.txt', encoding='latin-1')\n",
    "tmp_neg = open('/Users/maxsteffey/Downloads/negative-words.txt', encoding='latin-1')\n",
    "pos = tmp_pos.read()\n",
    "neg = tmp_neg.read()\n",
    "\n",
    "## split text into a set for later matching\n",
    "pw = set(pos.split())\n",
    "nw = set(neg.split())\n",
    "tmp_pos.close()\n",
    "tmp_neg.close()"
   ]
  },
  {
   "cell_type": "code",
   "execution_count": null,
   "id": "aaa9acbd",
   "metadata": {},
   "outputs": [],
   "source": [
    "## importing dataset\n",
    "df = pd.read_csv('/Users/maxsteffey/Downloads/hogwarts_legacy_reviews.csv', index_col=[0])"
   ]
  },
  {
   "cell_type": "code",
   "execution_count": 3,
   "id": "cc6f5587",
   "metadata": {},
   "outputs": [],
   "source": [
    "## function that contains common preprocessing steps. removes stopwords like \"a\", \"the\", \"it\", etc.\n",
    "def preprocessing(raw_text):\n",
    "    import nltk\n",
    "    nltk.download('stopwords')\n",
    "    from nltk.corpus import stopwords \n",
    "    import regex as re\n",
    "    \n",
    "    ## convert to lowercase\n",
    "    lower_text = raw_text.lower()\n",
    "    \n",
    "    ## remove punctuation, non-english chars, etc.\n",
    "    letters_only = re.sub(\"[^a-z]\",\n",
    "                          \" \",     \n",
    "                          lower_text)\n",
    "     \n",
    "    ## removes stopwords like \"a\", \"the\", \"it\", etc.\n",
    "    sw = stopwords.words('english')\n",
    "    tmp = letters_only.split()\n",
    "    tmp_ar = [w for w in tmp if w not in sw]\n",
    "    tmp_o = ' '.join(tmp_ar)\n",
    "    return tmp_o"
   ]
  },
  {
   "cell_type": "code",
   "execution_count": 4,
   "id": "79333d3f",
   "metadata": {},
   "outputs": [],
   "source": [
    "## subsetting data to remove feedback column and trim to 1000 rows\n",
    "data = df.drop(['Feedback'], axis=1)\n",
    "data = df.iloc[0:1000, :]"
   ]
  },
  {
   "cell_type": "code",
   "execution_count": 5,
   "id": "d249a248",
   "metadata": {},
   "outputs": [],
   "source": [
    "## appending all review data to one huge string\n",
    "text = data['Review']\n",
    "string = ''\n",
    "for i in text:\n",
    "    string += str(i)"
   ]
  },
  {
   "cell_type": "code",
   "execution_count": 6,
   "id": "ce1ee96b",
   "metadata": {},
   "outputs": [
    {
     "name": "stderr",
     "output_type": "stream",
     "text": [
      "[nltk_data] Downloading package stopwords to\n",
      "[nltk_data]     /Users/maxsteffey/nltk_data...\n",
      "[nltk_data]   Package stopwords is already up-to-date!\n"
     ]
    }
   ],
   "source": [
    "## preprocessing data\n",
    "final_df = preprocessing(string)"
   ]
  },
  {
   "cell_type": "code",
   "execution_count": 8,
   "id": "530b0d0e",
   "metadata": {},
   "outputs": [],
   "source": [
    "## recieves some abritrary text, calculates sentiment score by matching words to words in pw and nw\n",
    "def gen_senti(text):\n",
    "    import re\n",
    "    clean_text = re.sub(\"[^A-Za-z']+\",\" \",text).lower().strip().replace(\"  \", \" \") ## making text readable\n",
    "    \n",
    "    ## initialize counts\n",
    "    pc = 0\n",
    "    nc = 0\n",
    "    total = 0\n",
    "    \n",
    "    ## split the cleaned text\n",
    "    tmp = set(clean_text.split())\n",
    "    \n",
    "    ## iterate through tmp and edit counts accordingly\n",
    "    for i in tmp:\n",
    "        if i in pw:\n",
    "            pc = pc + 1\n",
    "            total = total + 1\n",
    "        elif i in nw:\n",
    "            nc = nc - 1\n",
    "            total = total + 1\n",
    "    \n",
    "    ## see counts\n",
    "    print(pc)\n",
    "    print(nc)\n",
    "            \n",
    "    ## check on zeroDivError\n",
    "    if total == 0:\n",
    "        return 0\n",
    "    \n",
    "    ## calculate sentiment score\n",
    "    else:\n",
    "        S = (str((pc + nc) / total))\n",
    "        return S"
   ]
  },
  {
   "cell_type": "code",
   "execution_count": 9,
   "id": "5c45edae",
   "metadata": {},
   "outputs": [
    {
     "name": "stdout",
     "output_type": "stream",
     "text": [
      "223\n",
      "-275\n"
     ]
    },
    {
     "data": {
      "text/plain": [
       "'-0.10441767068273092'"
      ]
     },
     "execution_count": 9,
     "metadata": {},
     "output_type": "execute_result"
    }
   ],
   "source": [
    "## this game has a slightly negative sentiment score!\n",
    "gen_senti(final_df)"
   ]
  },
  {
   "cell_type": "code",
   "execution_count": 10,
   "id": "b81a863e",
   "metadata": {},
   "outputs": [
    {
     "data": {
      "text/plain": [
       "[('game', 658),\n",
       " ('good', 128),\n",
       " ('like', 116),\n",
       " ('potter', 106),\n",
       " ('world', 105),\n",
       " ('fun', 104),\n",
       " ('harry', 102),\n",
       " ('great', 95),\n",
       " ('story', 79),\n",
       " ('really', 76),\n",
       " ('play', 71),\n",
       " ('time', 66),\n",
       " ('love', 64),\n",
       " ('amazing', 62),\n",
       " ('even', 60)]"
      ]
     },
     "execution_count": 10,
     "metadata": {},
     "output_type": "execute_result"
    }
   ],
   "source": [
    "## create dictionary of most used words in df\n",
    "words = final_df.split(' ')\n",
    "all_words = nltk.FreqDist(words)\n",
    "mostCommon = all_words.most_common(15)\n",
    "mostCommon"
   ]
  },
  {
   "cell_type": "code",
   "execution_count": 11,
   "id": "c8cca659",
   "metadata": {},
   "outputs": [
    {
     "data": {
      "text/html": [
       "<div>\n",
       "<style scoped>\n",
       "    .dataframe tbody tr th:only-of-type {\n",
       "        vertical-align: middle;\n",
       "    }\n",
       "\n",
       "    .dataframe tbody tr th {\n",
       "        vertical-align: top;\n",
       "    }\n",
       "\n",
       "    .dataframe thead th {\n",
       "        text-align: right;\n",
       "    }\n",
       "</style>\n",
       "<table border=\"1\" class=\"dataframe\">\n",
       "  <thead>\n",
       "    <tr style=\"text-align: right;\">\n",
       "      <th></th>\n",
       "      <th>word</th>\n",
       "      <th>count</th>\n",
       "    </tr>\n",
       "  </thead>\n",
       "  <tbody>\n",
       "    <tr>\n",
       "      <th>0</th>\n",
       "      <td>game</td>\n",
       "      <td>658</td>\n",
       "    </tr>\n",
       "    <tr>\n",
       "      <th>1</th>\n",
       "      <td>good</td>\n",
       "      <td>128</td>\n",
       "    </tr>\n",
       "    <tr>\n",
       "      <th>2</th>\n",
       "      <td>like</td>\n",
       "      <td>116</td>\n",
       "    </tr>\n",
       "    <tr>\n",
       "      <th>3</th>\n",
       "      <td>potter</td>\n",
       "      <td>106</td>\n",
       "    </tr>\n",
       "    <tr>\n",
       "      <th>4</th>\n",
       "      <td>world</td>\n",
       "      <td>105</td>\n",
       "    </tr>\n",
       "    <tr>\n",
       "      <th>5</th>\n",
       "      <td>fun</td>\n",
       "      <td>104</td>\n",
       "    </tr>\n",
       "    <tr>\n",
       "      <th>6</th>\n",
       "      <td>harry</td>\n",
       "      <td>102</td>\n",
       "    </tr>\n",
       "    <tr>\n",
       "      <th>7</th>\n",
       "      <td>great</td>\n",
       "      <td>95</td>\n",
       "    </tr>\n",
       "    <tr>\n",
       "      <th>8</th>\n",
       "      <td>story</td>\n",
       "      <td>79</td>\n",
       "    </tr>\n",
       "    <tr>\n",
       "      <th>9</th>\n",
       "      <td>really</td>\n",
       "      <td>76</td>\n",
       "    </tr>\n",
       "    <tr>\n",
       "      <th>10</th>\n",
       "      <td>play</td>\n",
       "      <td>71</td>\n",
       "    </tr>\n",
       "    <tr>\n",
       "      <th>11</th>\n",
       "      <td>time</td>\n",
       "      <td>66</td>\n",
       "    </tr>\n",
       "    <tr>\n",
       "      <th>12</th>\n",
       "      <td>love</td>\n",
       "      <td>64</td>\n",
       "    </tr>\n",
       "    <tr>\n",
       "      <th>13</th>\n",
       "      <td>amazing</td>\n",
       "      <td>62</td>\n",
       "    </tr>\n",
       "    <tr>\n",
       "      <th>14</th>\n",
       "      <td>even</td>\n",
       "      <td>60</td>\n",
       "    </tr>\n",
       "  </tbody>\n",
       "</table>\n",
       "</div>"
      ],
      "text/plain": [
       "       word  count\n",
       "0      game    658\n",
       "1      good    128\n",
       "2      like    116\n",
       "3    potter    106\n",
       "4     world    105\n",
       "5       fun    104\n",
       "6     harry    102\n",
       "7     great     95\n",
       "8     story     79\n",
       "9    really     76\n",
       "10     play     71\n",
       "11     time     66\n",
       "12     love     64\n",
       "13  amazing     62\n",
       "14     even     60"
      ]
     },
     "execution_count": 11,
     "metadata": {},
     "output_type": "execute_result"
    }
   ],
   "source": [
    "## convert to dataframe\n",
    "com_words = pd.DataFrame(mostCommon)\n",
    "com_words.rename(columns = {0:'word'}, inplace = True)\n",
    "com_words.rename(columns = {1:'count'}, inplace = True)\n",
    "com_words"
   ]
  },
  {
   "cell_type": "code",
   "execution_count": 12,
   "id": "3d71c3c4",
   "metadata": {},
   "outputs": [
    {
     "data": {
      "image/png": "[encoded data removed]",
      "text/plain": [
       "<Figure size 1050x350 with 1 Axes>"
      ]
     },
     "metadata": {},
     "output_type": "display_data"
    }
   ],
   "source": [
    "## create histogram to view\n",
    "from matplotlib.pyplot import hist\n",
    "\n",
    "plt.rcParams[\"figure.figsize\"] = [10.50, 3.50]\n",
    "plt.plot(com_words['word'], com_words['count'])\n",
    "plt.show()"
   ]
  },
  {
   "cell_type": "code",
   "execution_count": 13,
   "id": "b8d0a6c7",
   "metadata": {},
   "outputs": [],
   "source": [
    "word_features = list(all_words.keys())[:1000]"
   ]
  },
  {
   "cell_type": "code",
   "execution_count": null,
   "id": "d6e1fddb",
   "metadata": {},
   "outputs": [],
   "source": []
  }
 ],
 "metadata": {
  "kernelspec": {
   "display_name": "Python 3 (ipykernel)",
   "language": "python",
   "name": "python3"
  },
  "language_info": {
   "codemirror_mode": {
    "name": "ipython",
    "version": 3
   },
   "file_extension": ".py",
   "mimetype": "text/x-python",
   "name": "python",
   "nbconvert_exporter": "python",
   "pygments_lexer": "ipython3",
   "version": "3.9.13"
  }
 },
 "nbformat": 4,
 "nbformat_minor": 5
}
