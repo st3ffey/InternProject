{
 "cells": [
  {
   "cell_type": "markdown",
   "id": "1e67c236",
   "metadata": {},
   "source": [
    "# Intern Project: Creating Insight From Textual Response Data\n",
    "### Max Steffey, Spring 2023"
   ]
  },
  {
   "cell_type": "markdown",
   "id": "f148c73d",
   "metadata": {},
   "source": [
    "About the current __test__ dataset: Contains a CSV file of user reviews for a new Harry Potter video game. The actual text version of the review (i.e. what the user has to say) is in one column of this file. To perform essential functions, isolate that column, and proceed.\n",
    "\n",
    "With Egg data, a similar process will occur -- many of these functions will not change."
   ]
  },
  {
   "cell_type": "code",
   "execution_count": 15,
   "id": "6b90906d",
   "metadata": {},
   "outputs": [],
   "source": [
    "## importing libraries\n",
    "import pandas as pd\n",
    "import numpy as np\n",
    "import os\n",
    "from nltk.classify.scikitlearn import SklearnClassifier\n",
    "from nltk.classify import ClassifierI\n",
    "from nltk.tokenize import word_tokenize\n",
    "import matplotlib.pyplot as plt\n",
    "import nltk\n",
    "\n",
    "## import text files that contain common positive and negative words\n",
    "tmp_pos = open('/Users/maxsteffey/Downloads/positive-words.txt', encoding='latin-1')\n",
    "tmp_neg = open('/Users/maxsteffey/Downloads/negative-words.txt', encoding='latin-1')\n",
    "pos = tmp_pos.read()\n",
    "neg = tmp_neg.read()\n",
    "\n",
    "## split text into a set for later matching\n",
    "pw = set(pos.split())\n",
    "nw = set(neg.split())\n",
    "tmp_pos.close()\n",
    "tmp_neg.close()"
   ]
  },
  {
   "cell_type": "code",
   "execution_count": 17,
   "id": "49f3df8c",
   "metadata": {},
   "outputs": [
    {
     "name": "stderr",
     "output_type": "stream",
     "text": [
      "/var/folders/rh/kgcvmvmn175_t7gp0r_z5ltc0000gq/T/ipykernel_10665/3465998606.py:2: DtypeWarning: Columns (331,395,484) have mixed types. Specify dtype option on import or set low_memory=False.\n",
      "  df = pd.read_csv('/Users/maxsteffey/Downloads/3611 ORIGINAL plus REFIELD merged With New Weight Var.csv', index_col=[0],\n"
     ]
    }
   ],
   "source": [
    "## importing dataset\n",
    "df = pd.read_csv('/Users/maxsteffey/Downloads/3611 ORIGINAL plus REFIELD merged With New Weight Var.csv', index_col=[0], \n",
    "                 encoding='latin-1', on_bad_lines='skip', lineterminator='\\n')"
   ]
  },
  {
   "cell_type": "code",
   "execution_count": 18,
   "id": "cc6f5587",
   "metadata": {},
   "outputs": [],
   "source": [
    "## function that contains common preprocessing steps. removes stopwords like \"a\", \"the\", \"it\", etc.\n",
    "def preprocessing(raw_text):\n",
    "    import nltk\n",
    "    nltk.download('stopwords')\n",
    "    from nltk.corpus import stopwords \n",
    "    import regex as re\n",
    "    \n",
    "    ## convert to lowercase\n",
    "    lower_text = raw_text.lower()\n",
    "    \n",
    "    ## remove punctuation, non-english chars, etc.\n",
    "    letters_only = re.sub(\"[^a-z]\",\n",
    "                          \" \",     \n",
    "                          lower_text)\n",
    "     \n",
    "    ## removes stopwords like \"a\", \"the\", \"it\", etc.\n",
    "    sw = stopwords.words('english')\n",
    "    tmp = letters_only.split()\n",
    "    tmp_ar = [w for w in tmp if w not in sw]\n",
    "    tmp_o = ' '.join(tmp_ar)\n",
    "    return tmp_o"
   ]
  },
  {
   "cell_type": "code",
   "execution_count": 19,
   "id": "79333d3f",
   "metadata": {},
   "outputs": [
    {
     "data": {
      "text/html": [
       "<div>\n",
       "<style scoped>\n",
       "    .dataframe tbody tr th:only-of-type {\n",
       "        vertical-align: middle;\n",
       "    }\n",
       "\n",
       "    .dataframe tbody tr th {\n",
       "        vertical-align: top;\n",
       "    }\n",
       "\n",
       "    .dataframe thead th {\n",
       "        text-align: right;\n",
       "    }\n",
       "</style>\n",
       "<table border=\"1\" class=\"dataframe\">\n",
       "  <thead>\n",
       "    <tr style=\"text-align: right;\">\n",
       "      <th></th>\n",
       "      <th>Q1</th>\n",
       "      <th>Q8</th>\n",
       "      <th>Q9</th>\n",
       "      <th>Q13A</th>\n",
       "      <th>Q13Br4</th>\n",
       "    </tr>\n",
       "    <tr>\n",
       "      <th>ï»¿record</th>\n",
       "      <th></th>\n",
       "      <th></th>\n",
       "      <th></th>\n",
       "      <th></th>\n",
       "      <th></th>\n",
       "    </tr>\n",
       "  </thead>\n",
       "  <tbody>\n",
       "    <tr>\n",
       "      <th>1</th>\n",
       "      <td>Focus your energy on the things you can change...</td>\n",
       "      <td>I would be relaxing at home chillin with frien...</td>\n",
       "      <td>I'm very sarcastic and funny I'm honest and tr...</td>\n",
       "      <td>A very fun loving energetic caring person</td>\n",
       "      <td>It brings back memories of camp it's where I d...</td>\n",
       "    </tr>\n",
       "    <tr>\n",
       "      <th>55</th>\n",
       "      <td>My main motto is every man who works hard will...</td>\n",
       "      <td>Eating breakfast with family and children, the...</td>\n",
       "      <td>Telling jokes in difficult days and situations...</td>\n",
       "      <td>It is a brand for someone who pays attention t...</td>\n",
       "      <td>It refreshes me, gives me energy and vitality,...</td>\n",
       "    </tr>\n",
       "    <tr>\n",
       "      <th>56</th>\n",
       "      <td>I am a friendly person, I love everyone and I ...</td>\n",
       "      <td>I prefer to spend Saturday with my friends out...</td>\n",
       "      <td>I am very funny and I always have a joke.</td>\n",
       "      <td>It is a brand for gourmets who have experience...</td>\n",
       "      <td>It is very fresh.</td>\n",
       "    </tr>\n",
       "    <tr>\n",
       "      <th>57</th>\n",
       "      <td>I am an ambitious person always striving for t...</td>\n",
       "      <td>Exercise activities and establish a party with...</td>\n",
       "      <td>I love to laugh and make funny situations with...</td>\n",
       "      <td>For people who exercise and care about health</td>\n",
       "      <td>Gives energy and vitality</td>\n",
       "    </tr>\n",
       "    <tr>\n",
       "      <th>66</th>\n",
       "      <td>One step at a time.   One thing that describes...</td>\n",
       "      <td>A chill day relaxing and hanging out with my f...</td>\n",
       "      <td>Pretty adaptedable</td>\n",
       "      <td>For someone who works nights or need a pick me...</td>\n",
       "      <td>It gives me a little more energy</td>\n",
       "    </tr>\n",
       "  </tbody>\n",
       "</table>\n",
       "</div>"
      ],
      "text/plain": [
       "                                                          Q1  \\\n",
       "ï»¿record                                                      \n",
       "1          Focus your energy on the things you can change...   \n",
       "55         My main motto is every man who works hard will...   \n",
       "56         I am a friendly person, I love everyone and I ...   \n",
       "57         I am an ambitious person always striving for t...   \n",
       "66         One step at a time.   One thing that describes...   \n",
       "\n",
       "                                                          Q8  \\\n",
       "ï»¿record                                                      \n",
       "1          I would be relaxing at home chillin with frien...   \n",
       "55         Eating breakfast with family and children, the...   \n",
       "56         I prefer to spend Saturday with my friends out...   \n",
       "57         Exercise activities and establish a party with...   \n",
       "66         A chill day relaxing and hanging out with my f...   \n",
       "\n",
       "                                                          Q9  \\\n",
       "ï»¿record                                                      \n",
       "1          I'm very sarcastic and funny I'm honest and tr...   \n",
       "55         Telling jokes in difficult days and situations...   \n",
       "56                 I am very funny and I always have a joke.   \n",
       "57         I love to laugh and make funny situations with...   \n",
       "66                                        Pretty adaptedable   \n",
       "\n",
       "                                                        Q13A  \\\n",
       "ï»¿record                                                      \n",
       "1                  A very fun loving energetic caring person   \n",
       "55         It is a brand for someone who pays attention t...   \n",
       "56         It is a brand for gourmets who have experience...   \n",
       "57             For people who exercise and care about health   \n",
       "66         For someone who works nights or need a pick me...   \n",
       "\n",
       "                                                      Q13Br4  \n",
       "ï»¿record                                                     \n",
       "1          It brings back memories of camp it's where I d...  \n",
       "55         It refreshes me, gives me energy and vitality,...  \n",
       "56                                         It is very fresh.  \n",
       "57                                 Gives energy and vitality  \n",
       "66                          It gives me a little more energy  "
      ]
     },
     "execution_count": 19,
     "metadata": {},
     "output_type": "execute_result"
    }
   ],
   "source": [
    "## subsetting data to remove feedback column and trim to 1000 rows\n",
    "data = df[['Q1', 'Q8', 'Q9', 'Q13A', 'Q13Br4']]\n",
    "data.head()"
   ]
  },
  {
   "cell_type": "code",
   "execution_count": 20,
   "id": "d249a248",
   "metadata": {},
   "outputs": [],
   "source": [
    "## appending all review data to one huge string\n",
    "text = data['Q1']\n",
    "string = ''\n",
    "for i in text:\n",
    "    string += str(i)"
   ]
  },
  {
   "cell_type": "code",
   "execution_count": 21,
   "id": "ce1ee96b",
   "metadata": {},
   "outputs": [
    {
     "name": "stderr",
     "output_type": "stream",
     "text": [
      "[nltk_data] Downloading package stopwords to\n",
      "[nltk_data]     /Users/maxsteffey/nltk_data...\n",
      "[nltk_data]   Package stopwords is already up-to-date!\n"
     ]
    }
   ],
   "source": [
    "## preprocessing data\n",
    "final_df = preprocessing(string)"
   ]
  },
  {
   "cell_type": "code",
   "execution_count": 22,
   "id": "530b0d0e",
   "metadata": {},
   "outputs": [],
   "source": [
    "## recieves some abritrary text, calculates sentiment score by matching words to words in pw and nw\n",
    "def gen_senti(text):\n",
    "    import re\n",
    "    clean_text = re.sub(\"[^A-Za-z']+\",\" \",text).lower().strip().replace(\"  \", \" \") ## making text readable\n",
    "    \n",
    "    ## initialize counts\n",
    "    pc = 0\n",
    "    nc = 0\n",
    "    total = 0\n",
    "    \n",
    "    ## split the cleaned text\n",
    "    tmp = set(clean_text.split())\n",
    "    \n",
    "    ## iterate through tmp and edit counts accordingly\n",
    "    for i in tmp:\n",
    "        if i in pw:\n",
    "            pc = pc + 1\n",
    "            total = total + 1\n",
    "        elif i in nw:\n",
    "            nc = nc - 1\n",
    "            total = total + 1\n",
    "    \n",
    "    ## see counts\n",
    "    print(pc)\n",
    "    print(nc)\n",
    "            \n",
    "    ## check on zeroDivError\n",
    "    if total == 0:\n",
    "        return 0\n",
    "    \n",
    "    ## calculate sentiment score\n",
    "    else:\n",
    "        S = (str((pc + nc) / total))\n",
    "        return S"
   ]
  },
  {
   "cell_type": "code",
   "execution_count": 23,
   "id": "5c45edae",
   "metadata": {},
   "outputs": [
    {
     "name": "stdout",
     "output_type": "stream",
     "text": [
      "219\n",
      "-149\n"
     ]
    },
    {
     "data": {
      "text/plain": [
       "'0.19021739130434784'"
      ]
     },
     "execution_count": 23,
     "metadata": {},
     "output_type": "execute_result"
    }
   ],
   "source": [
    "## print postivie words, negative words, and sentiment score\n",
    "gen_senti(final_df)"
   ]
  },
  {
   "cell_type": "markdown",
   "id": "e815cc02",
   "metadata": {},
   "source": [
    "As we can see from the score about, the sentiment index is slightly negative, which implies that users often mention more negative things than positive things about the game. Still, this isn't representative of perspective. More context is required."
   ]
  },
  {
   "cell_type": "code",
   "execution_count": 24,
   "id": "b81a863e",
   "metadata": {},
   "outputs": [
    {
     "data": {
      "text/plain": [
       "[('song', 141),\n",
       " ('life', 115),\n",
       " ('like', 109),\n",
       " ('theme', 98),\n",
       " ('person', 97),\n",
       " ('love', 91),\n",
       " ('live', 73),\n",
       " ('would', 72),\n",
       " ('best', 70),\n",
       " ('good', 69),\n",
       " ('people', 63),\n",
       " ('always', 60),\n",
       " ('get', 60),\n",
       " ('things', 56),\n",
       " ('want', 56)]"
      ]
     },
     "execution_count": 24,
     "metadata": {},
     "output_type": "execute_result"
    }
   ],
   "source": [
    "## create dictionary of most used words in df\n",
    "words = final_df.split(' ')\n",
    "all_words = nltk.FreqDist(words)\n",
    "mostCommon = all_words.most_common(15)\n",
    "mostCommon"
   ]
  },
  {
   "cell_type": "code",
   "execution_count": 25,
   "id": "c8cca659",
   "metadata": {},
   "outputs": [
    {
     "data": {
      "text/html": [
       "<div>\n",
       "<style scoped>\n",
       "    .dataframe tbody tr th:only-of-type {\n",
       "        vertical-align: middle;\n",
       "    }\n",
       "\n",
       "    .dataframe tbody tr th {\n",
       "        vertical-align: top;\n",
       "    }\n",
       "\n",
       "    .dataframe thead th {\n",
       "        text-align: right;\n",
       "    }\n",
       "</style>\n",
       "<table border=\"1\" class=\"dataframe\">\n",
       "  <thead>\n",
       "    <tr style=\"text-align: right;\">\n",
       "      <th></th>\n",
       "      <th>word</th>\n",
       "      <th>count</th>\n",
       "    </tr>\n",
       "  </thead>\n",
       "  <tbody>\n",
       "    <tr>\n",
       "      <th>0</th>\n",
       "      <td>song</td>\n",
       "      <td>141</td>\n",
       "    </tr>\n",
       "    <tr>\n",
       "      <th>1</th>\n",
       "      <td>life</td>\n",
       "      <td>115</td>\n",
       "    </tr>\n",
       "    <tr>\n",
       "      <th>2</th>\n",
       "      <td>like</td>\n",
       "      <td>109</td>\n",
       "    </tr>\n",
       "    <tr>\n",
       "      <th>3</th>\n",
       "      <td>theme</td>\n",
       "      <td>98</td>\n",
       "    </tr>\n",
       "    <tr>\n",
       "      <th>4</th>\n",
       "      <td>person</td>\n",
       "      <td>97</td>\n",
       "    </tr>\n",
       "    <tr>\n",
       "      <th>5</th>\n",
       "      <td>love</td>\n",
       "      <td>91</td>\n",
       "    </tr>\n",
       "    <tr>\n",
       "      <th>6</th>\n",
       "      <td>live</td>\n",
       "      <td>73</td>\n",
       "    </tr>\n",
       "    <tr>\n",
       "      <th>7</th>\n",
       "      <td>would</td>\n",
       "      <td>72</td>\n",
       "    </tr>\n",
       "    <tr>\n",
       "      <th>8</th>\n",
       "      <td>best</td>\n",
       "      <td>70</td>\n",
       "    </tr>\n",
       "    <tr>\n",
       "      <th>9</th>\n",
       "      <td>good</td>\n",
       "      <td>69</td>\n",
       "    </tr>\n",
       "    <tr>\n",
       "      <th>10</th>\n",
       "      <td>people</td>\n",
       "      <td>63</td>\n",
       "    </tr>\n",
       "    <tr>\n",
       "      <th>11</th>\n",
       "      <td>always</td>\n",
       "      <td>60</td>\n",
       "    </tr>\n",
       "    <tr>\n",
       "      <th>12</th>\n",
       "      <td>get</td>\n",
       "      <td>60</td>\n",
       "    </tr>\n",
       "    <tr>\n",
       "      <th>13</th>\n",
       "      <td>things</td>\n",
       "      <td>56</td>\n",
       "    </tr>\n",
       "    <tr>\n",
       "      <th>14</th>\n",
       "      <td>want</td>\n",
       "      <td>56</td>\n",
       "    </tr>\n",
       "  </tbody>\n",
       "</table>\n",
       "</div>"
      ],
      "text/plain": [
       "      word  count\n",
       "0     song    141\n",
       "1     life    115\n",
       "2     like    109\n",
       "3    theme     98\n",
       "4   person     97\n",
       "5     love     91\n",
       "6     live     73\n",
       "7    would     72\n",
       "8     best     70\n",
       "9     good     69\n",
       "10  people     63\n",
       "11  always     60\n",
       "12     get     60\n",
       "13  things     56\n",
       "14    want     56"
      ]
     },
     "execution_count": 25,
     "metadata": {},
     "output_type": "execute_result"
    }
   ],
   "source": [
    "## convert to dataframe\n",
    "com_words = pd.DataFrame(mostCommon)\n",
    "com_words.rename(columns = {0:'word'}, inplace = True)\n",
    "com_words.rename(columns = {1:'count'}, inplace = True)\n",
    "com_words"
   ]
  },
  {
   "cell_type": "code",
   "execution_count": 26,
   "id": "3d71c3c4",
   "metadata": {},
   "outputs": [
    {
     "data": {
      "image/png": "[encoded data removed]",
      "text/plain": [
       "<Figure size 1050x350 with 1 Axes>"
      ]
     },
     "metadata": {},
     "output_type": "display_data"
    }
   ],
   "source": [
    "## create histogram to view\n",
    "from matplotlib.pyplot import hist\n",
    "\n",
    "plt.rcParams[\"figure.figsize\"] = [10.50, 3.50]\n",
    "plt.plot(com_words['word'], com_words['count'])\n",
    "plt.show()"
   ]
  },
  {
   "cell_type": "markdown",
   "id": "2e3e9864",
   "metadata": {},
   "source": [
    "As we can see from the word frequency distribution, there are some pretty positive takeaways, which contrasts the findings from the earlier sentiment analysis. Words like 'good, world, fun, great, love, amazing' seem to indicate a pretty good perspective."
   ]
  },
  {
   "cell_type": "code",
   "execution_count": null,
   "id": "eb0fa566",
   "metadata": {},
   "outputs": [],
   "source": []
  }
 ],
 "metadata": {
  "kernelspec": {
   "display_name": "Python 3 (ipykernel)",
   "language": "python",
   "name": "python3"
  },
  "language_info": {
   "codemirror_mode": {
    "name": "ipython",
    "version": 3
   },
   "file_extension": ".py",
   "mimetype": "text/x-python",
   "name": "python",
   "nbconvert_exporter": "python",
   "pygments_lexer": "ipython3",
   "version": "3.9.13"
  }
 },
 "nbformat": 4,
 "nbformat_minor": 5
}
